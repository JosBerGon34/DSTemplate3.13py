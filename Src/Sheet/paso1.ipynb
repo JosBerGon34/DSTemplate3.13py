{
 "cells": [
  {
   "cell_type": "code",
   "execution_count": null,
   "metadata": {
    "vscode": {
     "languageId": "plaintext"
    }
   },
   "outputs": [],
   "source": [
    "#WEB SCRAPPING y ALMACENAMIENTO SQL.\n",
    "\n",
    "from selenium import webdriver\n",
    "from selenium.webdriver.common.by import By\n",
    "from webdriver_manager.chrome import ChromeDriverManager\n",
    "import pandas as pd\n",
    "import psycopg2\n",
    "\n",
    "# Configuración de la base de datos\n",
    "conn = psycopg2.connect(\n",
    "    dbname=\"tu_base_de_datos\",\n",
    "    user=\"tu_usuario\",\n",
    "    password=\"tu_contraseña\",\n",
    "    host=\"tu_host\",\n",
    "    port=\"tu_puerto\"\n",
    ")\n",
    "cursor = conn.cursor()\n",
    "\n",
    "# Crear la tabla en la base de datos (ajusta según tu esquema)\n",
    "cursor.execute(\"\"\"\n",
    "    CREATE TABLE IF NOT EXISTS tablas_web (\n",
    "        id SERIAL PRIMARY KEY,\n",
    "        pagina TEXT,\n",
    "        datos JSONB\n",
    "    )\n",
    "\"\"\")\n",
    "\n",
    "# Instanciar el WebDriver de Chrome\n",
    "driver = webdriver.Chrome(ChromeDriverManager().install())\n",
    "\n",
    "# URL de la página web\n",
    "url = \"https://www.example.com\"\n",
    "driver.get(url)\n",
    "\n",
    "# Encontrar todas las tablas en la página\n",
    "tables = driver.find_elements(By.TAG_NAME, \"table\")\n",
    "\n",
    "for index, table in enumerate(tables):\n",
    "    # Crear una lista para almacenar los datos de cada fila\n",
    "    data = []\n",
    "    for row in table.find_elements(By.TAG_NAME, \"tr\"):\n",
    "        cells = row.find_elements(By.TAG_NAME, \"td\")\n",
    "        row_data = [cell.text for cell in cells]\n",
    "        data.append(row_data)\n",
    "\n",
    "    # Crear un DataFrame de pandas\n",
    "    df = pd.DataFrame(data)\n",
    "\n",
    "    # Convertir el DataFrame a un diccionario para almacenarlo como JSON\n",
    "    data_json = df.to_json(orient='records')\n",
    "\n",
    "    # Insertar los datos en la base de datos\n",
    "    sql = \"\"\"\n",
    "        INSERT INTO tablas_web (pagina, datos)\n",
    "        VALUES (%s, %s)\n",
    "    \"\"\"\n",
    "    val = (url, data_json)\n",
    "    cursor.execute(sql, val)\n",
    "\n",
    "# Confirmar los cambios\n",
    "conn.commit()\n",
    "\n",
    "# Cerrar la conexión a la base de datos y el navegador\n",
    "cursor.close()\n",
    "conn.close()\n",
    "driver.quit()"
   ]
  }
 ],
 "metadata": {
  "language_info": {
   "name": "python"
  }
 },
 "nbformat": 4,
 "nbformat_minor": 2
}
