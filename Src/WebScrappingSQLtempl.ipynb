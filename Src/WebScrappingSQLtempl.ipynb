from selenium import webdriver
from selenium.webdriver.chrome.service import Service
from selenium.webdriver.common.by import By
import time

# Opcion 1: Indicando la ruta del ejecutable (menos recomendado)
#path_driver = "/ruta/a/chromedriver"
#service = Service(executable_path=path_driver)
#driver = webdriver.Chrome(service=service)

# Opcion 2: Usando webdriver-manager (Recomendado)
from webdriver_manager.chrome import ChromeDriverManager
driver = webdriver.Chrome(service=Service(ChromeDriverManager().install()))


url = "https://www.ejemplo.com"  # Reemplaza con la URL que quieras
driver.get(url)

# Espera implicita (espera hasta 10 segundos a que un elemento este presente)
driver.implicitly_wait(10)

# Buscar un elemento por su selector CSS
elemento = driver.find_element(By.CSS_SELECTOR, "h1") #Ejemplo, busca un elemento h1
if elemento:
    print(elemento.text)

# Buscar un elemento por su ID
elemento_por_id = driver.find_element(By.ID, "algún-id") #Ejemplo, busca un elemento por su id
if elemento_por_id:
  print(elemento_por_id.text)

# Buscar elementos por nombre de clase
elementos_por_clase = driver.find_elements(By.CLASS_NAME, "alguna-clase") #Ejemplo, busca varios elementos por su clase
for elemento_clase in elementos_por_clase:
    print(elemento_clase.text)

# Espera explicita (espera hasta 10 segundos hasta que se cumpla una condicion, como que un elemento sea clickeable)
from selenium.webdriver.support.ui import WebDriverWait
from selenium.webdriver.support import expected_conditions as EC
try:
    elemento_esperado = WebDriverWait(driver, 10).until(
        EC.presence_of_element_located((By.ID, "elemento-que-tarda-en-cargar"))
    )
    print("Elemento encontrado despues de la espera")
except:
    print("Elemento no encontrado despues de la espera")

#Interactuar con elementos
#Click en un boton
#boton = driver.find_element(By.ID, "miBoton")
#boton.click()

#Rellenar un formulario
#campo_texto = driver.find_element(By.ID, "miCampoTexto")
#campo_texto.send_keys("Texto de ejemplo")

# Obtener el código fuente de la página después de que se haya cargado el JavaScript
html = driver.page_source
print(html[:500]) #Imprime los primeros 500 caracteres del codigo fuente

# Cerrar el navegador
driver.quit()
